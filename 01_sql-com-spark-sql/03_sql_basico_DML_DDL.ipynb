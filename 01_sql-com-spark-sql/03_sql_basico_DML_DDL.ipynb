{
 "cells": [
  {
   "cell_type": "markdown",
   "metadata": {
    "application/vnd.databricks.v1+cell": {
     "cellMetadata": {},
     "inputWidgets": {},
     "nuid": "db09ef21-4b6c-4bc2-84df-f0d2a82deabb",
     "showTitle": false,
     "tableResultSettingsMap": {},
     "title": ""
    }
   },
   "source": [
    "\n",
    "#🛠️ DDL e DML em SQL no Databricks\n",
    "\n",
    "Este notebook traz uma introdução prática aos principais comandos SQL, com foco em quem está começando. A ideia aqui é entender o papel de cada tipo de comando — DDL (Data Definition Language) e DML (Data Manipulation Language) — e saber como usá-los no dia a dia para gerenciar a estrutura e o conteúdo de seus dados de forma eficiente e clara dentro do Databricks.\n",
    "\n",
    "✅ O que você vai aprender:\n",
    "\n",
    "- O que é DDL e como usá-lo para definir e gerenciar a estrutura de tabelas\n",
    "- Como criar, alterar e excluir tabelas com CREATE, ALTER e DROP TABLE\n",
    "- O que é DML e como usá-lo para manipular os dados dentro das tabelas\n",
    "- Como inserir, atualizar e excluir dados com INSERT, UPDATE e DELETE\n",
    "\n",
    "Todos os exemplos são simples, objetivos e pensados para facilitar o aprendizado de SQL no contexto do Spark SQL.\n",
    "\n",
    "Links úteis:\n",
    "\n",
    "- SQL language reference: https://docs.databricks.com/aws/en/sql/language-manual/\n",
    "\n",
    "_____________________________________________________________"
   ]
  },
  {
   "cell_type": "code",
   "execution_count": 0,
   "metadata": {
    "application/vnd.databricks.v1+cell": {
     "cellMetadata": {},
     "inputWidgets": {},
     "nuid": "4d42cf47-b88a-402b-a5c3-1b77faf31384",
     "showTitle": false,
     "tableResultSettingsMap": {},
     "title": ""
    }
   },
   "outputs": [],
   "source": []
  }
 ],
 "metadata": {
  "application/vnd.databricks.v1+notebook": {
   "computePreferences": null,
   "dashboards": [],
   "environmentMetadata": {
    "base_environment": "",
    "environment_version": "2"
   },
   "inputWidgetPreferences": null,
   "language": "sql",
   "notebookMetadata": {},
   "notebookName": "03_sql_basico_DML_DDL",
   "widgets": {}
  },
  "language_info": {
   "name": "sql"
  }
 },
 "nbformat": 4,
 "nbformat_minor": 0
}
