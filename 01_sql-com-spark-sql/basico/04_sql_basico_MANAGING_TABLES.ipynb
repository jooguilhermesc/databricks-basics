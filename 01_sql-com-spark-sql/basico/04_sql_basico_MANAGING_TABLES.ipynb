{
 "cells": [
  {
   "cell_type": "markdown",
   "metadata": {
    "application/vnd.databricks.v1+cell": {
     "cellMetadata": {},
     "inputWidgets": {},
     "nuid": "cff89862-69ba-4b28-b2a1-b42755dfdfd1",
     "showTitle": false,
     "tableResultSettingsMap": {},
     "title": ""
    }
   },
   "source": [
    "# 🔐 Gerenciando Tabelas em SQL no Databricks\n",
    "\n",
    "\n",
    "Links úteis:\n",
    "\n",
    "- Privileges and securable objects in Unity Catalog: http://docs.databricks.com/aws/en/sql/language-manual/sql-ref-privileges\n",
    "- Unity Catalog privileges and securable objects: https://docs.databricks.com/aws/en/data-governance/unity-catalog/manage-privileges/privileges#general-unity-catalog-privilege-types\n",
    "_____________________________________________________________"
   ]
  },
  {
   "cell_type": "markdown",
   "metadata": {
    "application/vnd.databricks.v1+cell": {
     "cellMetadata": {},
     "inputWidgets": {},
     "nuid": "55ec3ed7-7ef3-4079-ab29-9c0472809eb9",
     "showTitle": false,
     "tableResultSettingsMap": {},
     "title": ""
    }
   },
   "source": [
    "# GRANT & REVOKE"
   ]
  },
  {
   "cell_type": "code",
   "execution_count": 0,
   "metadata": {
    "application/vnd.databricks.v1+cell": {
     "cellMetadata": {},
     "inputWidgets": {},
     "nuid": "3cbc5a35-3415-43a9-8675-87aa6d01a014",
     "showTitle": true,
     "tableResultSettingsMap": {},
     "title": "GRANT"
    }
   },
   "outputs": [],
   "source": [
    "GRANT SELECT ON MATERIALIZED VIEW mv_funcionarios_por_cargo TO ROLE analista_dados;"
   ]
  },
  {
   "cell_type": "code",
   "execution_count": 0,
   "metadata": {
    "application/vnd.databricks.v1+cell": {
     "cellMetadata": {},
     "inputWidgets": {},
     "nuid": "4c0c7b21-9be1-4fe3-b866-c5d20ec9d3de",
     "showTitle": true,
     "tableResultSettingsMap": {},
     "title": "REVOKE"
    }
   },
   "outputs": [],
   "source": [
    "REVOKE SELECT ON MATERIALIZED VIEW mv_funcionarios_por_cargo FROM ROLE analista_dados;"
   ]
  },
  {
   "cell_type": "markdown",
   "metadata": {
    "application/vnd.databricks.v1+cell": {
     "cellMetadata": {},
     "inputWidgets": {},
     "nuid": "a983d8be-e0fc-4483-ae03-6b54dd458da5",
     "showTitle": false,
     "tableResultSettingsMap": {},
     "title": ""
    }
   },
   "source": [
    "# OBJETOS PROTEGÍVEIS"
   ]
  }
 ],
 "metadata": {
  "application/vnd.databricks.v1+notebook": {
   "computePreferences": null,
   "dashboards": [],
   "environmentMetadata": {
    "base_environment": "",
    "environment_version": "2"
   },
   "inputWidgetPreferences": null,
   "language": "sql",
   "notebookMetadata": {
    "pythonIndentUnit": 4
   },
   "notebookName": "04_sql_basico_MANAGING_TABLES",
   "widgets": {}
  },
  "language_info": {
   "name": "sql"
  }
 },
 "nbformat": 4,
 "nbformat_minor": 0
}
