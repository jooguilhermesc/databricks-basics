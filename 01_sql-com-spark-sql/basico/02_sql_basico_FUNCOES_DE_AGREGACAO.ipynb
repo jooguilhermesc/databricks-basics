{
 "cells": [
  {
   "cell_type": "markdown",
   "metadata": {
    "application/vnd.databricks.v1+cell": {
     "cellMetadata": {},
     "inputWidgets": {},
     "nuid": "8e1d73e3-dd39-457c-8054-b0d69a8d757b",
     "showTitle": false,
     "tableResultSettingsMap": {},
     "title": ""
    }
   },
   "source": [
    "# 📊 Funções de Agregação em SQL no Databricks\n",
    "Este notebook traz uma introdução prática às funções de agregação SQL, com foco em quem está começando. A ideia aqui é entender o papel de cada função e como usá-las no dia a dia, para resumir e analisar dados de forma eficiente e clara dentro do Databricks.\n",
    "\n",
    "✅ O que você vai aprender:\n",
    "\n",
    "- O que são e para que servem as funções de agregação\n",
    "- Como usar funções como COUNT, SUM, AVG, MAX e MIN\n",
    "- Como combinar funções de agregação com GROUP BY para agrupar dados\n",
    "- Como filtrar resultados de agregações com HAVING\n",
    "\n",
    "Todos os exemplos são simples, objetivos e pensados para facilitar o aprendizado de SQL no contexto do Spark SQL.\n",
    "\n",
    "\n",
    "Links úteis:\n",
    "\n",
    "- SQL language reference: https://docs.databricks.com/aws/en/sql/language-manual/\n",
    "\n",
    "_____________________________________________________________"
   ]
  },
  {
   "cell_type": "code",
   "execution_count": 0,
   "metadata": {
    "application/vnd.databricks.v1+cell": {
     "cellMetadata": {},
     "inputWidgets": {},
     "nuid": "000b631a-775f-4c5b-b1cf-ebc119ddffcb",
     "showTitle": true,
     "tableResultSettingsMap": {},
     "title": "COUNT"
    }
   },
   "outputs": [],
   "source": []
  },
  {
   "cell_type": "code",
   "execution_count": 0,
   "metadata": {
    "application/vnd.databricks.v1+cell": {
     "cellMetadata": {},
     "inputWidgets": {},
     "nuid": "c0600b67-c4d3-4734-95f3-66c2745009ac",
     "showTitle": true,
     "tableResultSettingsMap": {},
     "title": "SUM"
    }
   },
   "outputs": [],
   "source": []
  },
  {
   "cell_type": "code",
   "execution_count": 0,
   "metadata": {
    "application/vnd.databricks.v1+cell": {
     "cellMetadata": {},
     "inputWidgets": {},
     "nuid": "124d2377-90bb-471d-bcad-8195d43af7ca",
     "showTitle": true,
     "tableResultSettingsMap": {},
     "title": "AVG"
    }
   },
   "outputs": [],
   "source": []
  },
  {
   "cell_type": "code",
   "execution_count": 0,
   "metadata": {
    "application/vnd.databricks.v1+cell": {
     "cellMetadata": {},
     "inputWidgets": {},
     "nuid": "cb3e0283-5613-4f0a-bf63-64db322d9260",
     "showTitle": true,
     "tableResultSettingsMap": {},
     "title": "MAX"
    }
   },
   "outputs": [],
   "source": []
  },
  {
   "cell_type": "code",
   "execution_count": 0,
   "metadata": {
    "application/vnd.databricks.v1+cell": {
     "cellMetadata": {},
     "inputWidgets": {},
     "nuid": "bfd3c7ab-d978-4730-83b7-8adcea325c5b",
     "showTitle": true,
     "tableResultSettingsMap": {},
     "title": "MIN"
    }
   },
   "outputs": [],
   "source": []
  },
  {
   "cell_type": "code",
   "execution_count": 0,
   "metadata": {
    "application/vnd.databricks.v1+cell": {
     "cellMetadata": {},
     "inputWidgets": {},
     "nuid": "58003a47-d0a1-4f15-b381-41db5c68750e",
     "showTitle": true,
     "tableResultSettingsMap": {},
     "title": "MEAN"
    }
   },
   "outputs": [],
   "source": []
  },
  {
   "cell_type": "code",
   "execution_count": 0,
   "metadata": {
    "application/vnd.databricks.v1+cell": {
     "cellMetadata": {},
     "inputWidgets": {},
     "nuid": "daa872c1-9c9b-4c87-928e-f2799032b08d",
     "showTitle": true,
     "tableResultSettingsMap": {},
     "title": "MEDIAN"
    }
   },
   "outputs": [],
   "source": []
  },
  {
   "cell_type": "code",
   "execution_count": 0,
   "metadata": {
    "application/vnd.databricks.v1+cell": {
     "cellMetadata": {},
     "inputWidgets": {},
     "nuid": "4f80eecc-c557-4156-a262-d763be063418",
     "showTitle": true,
     "tableResultSettingsMap": {},
     "title": "STDDEV"
    }
   },
   "outputs": [],
   "source": []
  }
 ],
 "metadata": {
  "application/vnd.databricks.v1+notebook": {
   "computePreferences": null,
   "dashboards": [],
   "environmentMetadata": {
    "base_environment": "",
    "environment_version": "2"
   },
   "inputWidgetPreferences": null,
   "language": "sql",
   "notebookMetadata": {
    "pythonIndentUnit": 4
   },
   "notebookName": "02_sql_basico_FUNCOES_DE_AGREGACAO",
   "widgets": {}
  },
  "language_info": {
   "name": "sql"
  }
 },
 "nbformat": 4,
 "nbformat_minor": 0
}
