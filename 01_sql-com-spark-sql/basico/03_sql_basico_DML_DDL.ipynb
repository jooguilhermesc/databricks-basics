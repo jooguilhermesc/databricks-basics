{
 "cells": [
  {
   "cell_type": "markdown",
   "metadata": {
    "application/vnd.databricks.v1+cell": {
     "cellMetadata": {},
     "inputWidgets": {},
     "nuid": "db09ef21-4b6c-4bc2-84df-f0d2a82deabb",
     "showTitle": false,
     "tableResultSettingsMap": {},
     "title": ""
    }
   },
   "source": [
    "\n",
    "#🛠️ DDL e DML em SQL no Databricks\n",
    "\n",
    "Este notebook traz uma introdução prática aos principais comandos SQL, com foco em quem está começando. A ideia aqui é entender o papel de cada tipo de comando — DDL (Data Definition Language) e DML (Data Manipulation Language) — e saber como usá-los no dia a dia para gerenciar a estrutura e o conteúdo de seus dados de forma eficiente e clara dentro do Databricks.\n",
    "\n",
    "✅ O que você vai aprender:\n",
    "\n",
    "- O que é DDL e como usá-lo para definir e gerenciar a estrutura de tabelas\n",
    "- Como criar, alterar e excluir tabelas com CREATE, ALTER e DROP TABLE\n",
    "- O que é DML e como usá-lo para manipular os dados dentro das tabelas\n",
    "- Como inserir, atualizar e excluir dados com INSERT, UPDATE e DELETE\n",
    "\n",
    "Todos os exemplos são simples, objetivos e pensados para facilitar o aprendizado de SQL no contexto do Spark SQL.\n",
    "\n",
    "Links úteis:\n",
    "\n",
    "- SQL language reference: https://docs.databricks.com/aws/en/sql/language-manual/\n",
    "\n",
    "_____________________________________________________________"
   ]
  },
  {
   "cell_type": "markdown",
   "metadata": {
    "application/vnd.databricks.v1+cell": {
     "cellMetadata": {},
     "inputWidgets": {},
     "nuid": "d4a0b8b2-64fa-451b-b259-ddd94040fc23",
     "showTitle": false,
     "tableResultSettingsMap": {},
     "title": ""
    }
   },
   "source": [
    "# TABELAS"
   ]
  },
  {
   "cell_type": "code",
   "execution_count": 0,
   "metadata": {
    "application/vnd.databricks.v1+cell": {
     "cellMetadata": {},
     "inputWidgets": {},
     "nuid": "4d42cf47-b88a-402b-a5c3-1b77faf31384",
     "showTitle": true,
     "tableResultSettingsMap": {},
     "title": "CREATE"
    }
   },
   "outputs": [],
   "source": []
  },
  {
   "cell_type": "code",
   "execution_count": 0,
   "metadata": {
    "application/vnd.databricks.v1+cell": {
     "cellMetadata": {},
     "inputWidgets": {},
     "nuid": "750b26a1-15a0-4cc1-b92b-1c9966555d00",
     "showTitle": true,
     "tableResultSettingsMap": {},
     "title": "INSERT"
    }
   },
   "outputs": [],
   "source": []
  },
  {
   "cell_type": "code",
   "execution_count": 0,
   "metadata": {
    "application/vnd.databricks.v1+cell": {
     "cellMetadata": {},
     "inputWidgets": {},
     "nuid": "b8ff7e25-24a3-4014-a11d-f57df8415c13",
     "showTitle": true,
     "tableResultSettingsMap": {},
     "title": "ALTER"
    }
   },
   "outputs": [],
   "source": []
  },
  {
   "cell_type": "code",
   "execution_count": 0,
   "metadata": {
    "application/vnd.databricks.v1+cell": {
     "cellMetadata": {},
     "inputWidgets": {},
     "nuid": "a5b8f33d-6d22-49de-88a5-899d943c9cb6",
     "showTitle": true,
     "tableResultSettingsMap": {},
     "title": "UPDATE"
    }
   },
   "outputs": [],
   "source": []
  },
  {
   "cell_type": "code",
   "execution_count": 0,
   "metadata": {
    "application/vnd.databricks.v1+cell": {
     "cellMetadata": {},
     "inputWidgets": {},
     "nuid": "9016ec4e-9c80-47a2-a64c-3d8470c68065",
     "showTitle": true,
     "tableResultSettingsMap": {},
     "title": "DROP"
    }
   },
   "outputs": [],
   "source": []
  },
  {
   "cell_type": "markdown",
   "metadata": {
    "application/vnd.databricks.v1+cell": {
     "cellMetadata": {},
     "inputWidgets": {},
     "nuid": "927f0f2e-b92e-4907-9800-47620f4b9684",
     "showTitle": false,
     "tableResultSettingsMap": {},
     "title": ""
    }
   },
   "source": [
    "# VIEWS"
   ]
  },
  {
   "cell_type": "code",
   "execution_count": 0,
   "metadata": {
    "application/vnd.databricks.v1+cell": {
     "cellMetadata": {},
     "inputWidgets": {},
     "nuid": "d6eb7362-c801-4d18-8f94-41586f5e1629",
     "showTitle": true,
     "tableResultSettingsMap": {},
     "title": "TEMPORÁRIA"
    }
   },
   "outputs": [],
   "source": []
  },
  {
   "cell_type": "code",
   "execution_count": 0,
   "metadata": {
    "application/vnd.databricks.v1+cell": {
     "cellMetadata": {},
     "inputWidgets": {},
     "nuid": "68707321-8c3b-4030-9f3c-2607c622ab9b",
     "showTitle": true,
     "tableResultSettingsMap": {},
     "title": "MATERIALIZADA"
    }
   },
   "outputs": [],
   "source": []
  }
 ],
 "metadata": {
  "application/vnd.databricks.v1+notebook": {
   "computePreferences": null,
   "dashboards": [],
   "environmentMetadata": {
    "base_environment": "",
    "environment_version": "2"
   },
   "inputWidgetPreferences": null,
   "language": "sql",
   "notebookMetadata": {
    "pythonIndentUnit": 4
   },
   "notebookName": "03_sql_basico_DML_DDL",
   "widgets": {}
  },
  "language_info": {
   "name": "sql"
  }
 },
 "nbformat": 4,
 "nbformat_minor": 0
}
