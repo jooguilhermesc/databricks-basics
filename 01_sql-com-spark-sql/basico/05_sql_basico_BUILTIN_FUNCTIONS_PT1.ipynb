{
 "cells": [
  {
   "cell_type": "markdown",
   "metadata": {
    "application/vnd.databricks.v1+cell": {
     "cellMetadata": {},
     "inputWidgets": {},
     "nuid": "e7e38a84-d4a2-4617-bb71-6e5c9c4cd228",
     "showTitle": false,
     "tableResultSettingsMap": {},
     "title": ""
    }
   },
   "source": [
    "# 📊 Funções Nativas em SQL no Databricks\n",
    "\n",
    "\n",
    "Links úteis:\n",
    "\n",
    "- SQL language reference: https://docs.databricks.com/aws/en/sql/language-manual/sql-ref-functions-builtin#string-and-binary-functions\n",
    "\n",
    "_____________________________________________________________"
   ]
  },
  {
   "cell_type": "code",
   "execution_count": 0,
   "metadata": {
    "application/vnd.databricks.v1+cell": {
     "cellMetadata": {},
     "inputWidgets": {},
     "nuid": "44615645-7925-4477-a4ec-fb6fad442113",
     "showTitle": false,
     "tableResultSettingsMap": {},
     "title": ""
    }
   },
   "outputs": [],
   "source": [
    "CREATE OR REPLACE TABLE workspace.default.exemplo_usuarios (\n",
    "  id INT,\n",
    "  nome STRING,\n",
    "  cpf STRING,\n",
    "  salario DECIMAL(10,2),\n",
    "  data_nascimento DATE\n",
    ");\n",
    "\n",
    "INSERT INTO workspace.default.exemplo_usuarios VALUES\n",
    "  (1, 'Ana Paula', '12345678901', 3500.50, DATE '1990-03-15'),\n",
    "  (2, 'Carlos Silva', '23456789012', 5000.00, DATE '1985-11-23'),\n",
    "  (3, 'João Pedro', '34567890123', 4200.75, DATE '1992-07-30'),\n",
    "  (4, 'Mariana Lima', '45678901234', NULL, DATE '1998-01-10'),\n",
    "  (5, 'Luciana Dias', '56789012345', 6200.20, DATE '1980-09-12'),\n",
    "  (6, 'Rodrigo Alves', NULL, 3100.00, DATE '1995-05-05'),\n",
    "  (7, 'Bruno Costa', '67890123456', 2700.00, DATE '2000-02-02'),\n",
    "  (8, 'Fernanda Rocha', '78901234567', 5500.00, DATE '1993-10-18'),\n",
    "  (9, 'Patrícia Gomes', '89012345678', 3000.00, DATE '1991-06-25'),\n",
    "  (10, 'Renato Souza', '90123456789', NULL, DATE '1987-12-05');"
   ]
  },
  {
   "cell_type": "markdown",
   "metadata": {
    "application/vnd.databricks.v1+cell": {
     "cellMetadata": {},
     "inputWidgets": {},
     "nuid": "2958b6c2-76dc-4d82-96c8-021e026efd12",
     "showTitle": false,
     "tableResultSettingsMap": {},
     "title": ""
    }
   },
   "source": [
    "# FUNÇÕES DE TEXTO SIMPLES"
   ]
  },
  {
   "cell_type": "code",
   "execution_count": 0,
   "metadata": {
    "application/vnd.databricks.v1+cell": {
     "cellMetadata": {},
     "inputWidgets": {},
     "nuid": "e17d7173-9bd1-484a-a84b-9f0be402531a",
     "showTitle": true,
     "tableResultSettingsMap": {},
     "title": "SELECEÇÃO DE TEXTO"
    }
   },
   "outputs": [],
   "source": [
    "SELECT\n",
    "  nome,\n",
    "  LENGTH(nome) AS tamanho_nome,\n",
    "  UPPER(nome) AS nome_maiusculo,\n",
    "  LOWER(nome) AS nome_minusculo,\n",
    "  LTRIM(nome) AS nome_sem_espaco_esquerda,\n",
    "  RTRIM(nome) AS nome_sem_espaco_direita\n",
    "FROM workspace.default.exemplo_usuarios;"
   ]
  },
  {
   "cell_type": "markdown",
   "metadata": {
    "application/vnd.databricks.v1+cell": {
     "cellMetadata": {},
     "inputWidgets": {},
     "nuid": "e12003a2-d6f3-4afb-879f-ada5ff50f6c7",
     "showTitle": false,
     "tableResultSettingsMap": {},
     "title": ""
    }
   },
   "source": [
    "# FUNÇÕES NUMÉRICAS"
   ]
  },
  {
   "cell_type": "code",
   "execution_count": 0,
   "metadata": {
    "application/vnd.databricks.v1+cell": {
     "cellMetadata": {},
     "inputWidgets": {},
     "nuid": "cf667e51-e480-4ebc-bfbc-f19d5fbe5d0f",
     "showTitle": true,
     "tableResultSettingsMap": {},
     "title": "OPERAÇÕES ARITMÉTICAS"
    }
   },
   "outputs": [],
   "source": [
    "SELECT\n",
    "  id,\n",
    "  salario,\n",
    "  salario + 500 AS salario_com_bonus,\n",
    "  salario - 200 AS salario_descontado,\n",
    "  salario * 2 AS salario_dobro,\n",
    "  salario / 2 AS salario_metade,\n",
    "  POWER(salario, 2) AS salario_quadrado,\n",
    "  SQRT(salario) AS raiz_salario\n",
    "FROM workspace.default.exemplo_usuarios;"
   ]
  },
  {
   "cell_type": "markdown",
   "metadata": {
    "application/vnd.databricks.v1+cell": {
     "cellMetadata": {},
     "inputWidgets": {},
     "nuid": "37f374c8-3a6e-4023-8212-225029880754",
     "showTitle": false,
     "tableResultSettingsMap": {},
     "title": ""
    }
   },
   "source": [
    "# FUNÇÕES BOOLEANAS"
   ]
  },
  {
   "cell_type": "code",
   "execution_count": 0,
   "metadata": {
    "application/vnd.databricks.v1+cell": {
     "cellMetadata": {},
     "inputWidgets": {},
     "nuid": "3ba47ca3-a9ac-4120-a754-730ecb25e544",
     "showTitle": true,
     "tableResultSettingsMap": {},
     "title": "IS NULL"
    }
   },
   "outputs": [],
   "source": [
    "SELECT\n",
    "  nome,\n",
    "  salario,\n",
    "  ISNULL(salario) AS salario_esta_nulo,\n",
    "  IFNULL(salario, 0) AS salario_com_padrao,\n",
    "  IF(salario > 4000, 'Alto', 'Baixo') AS faixa_salarial,\n",
    "  IFF(salario IS NULL, 'Sem salário', 'Com salário') AS situacao_salarial\n",
    "FROM workspace.default.exemplo_usuarios;"
   ]
  },
  {
   "cell_type": "markdown",
   "metadata": {
    "application/vnd.databricks.v1+cell": {
     "cellMetadata": {},
     "inputWidgets": {},
     "nuid": "a0dfc61f-40d5-41db-8601-78473cd2deb3",
     "showTitle": false,
     "tableResultSettingsMap": {},
     "title": ""
    }
   },
   "source": [
    "# FUNÇÕES DE FORMATAÇÃO"
   ]
  },
  {
   "cell_type": "code",
   "execution_count": 0,
   "metadata": {
    "application/vnd.databricks.v1+cell": {
     "cellMetadata": {},
     "inputWidgets": {},
     "nuid": "dc81f044-8c3b-4ca3-9ffd-b77154fb693f",
     "showTitle": true,
     "tableResultSettingsMap": {},
     "title": "DESVIO PADRÃO"
    }
   },
   "outputs": [],
   "source": [
    "SELECT\n",
    "  cpf,\n",
    "  LPAD(cpf, 11, '0') AS cpf_lpad,\n",
    "  RPAD(cpf, 14, '*') AS cpf_rpad,\n",
    "  REGEXP_REPLACE(cpf, '(\\\\d{3})(\\\\d{3})(\\\\d{3})(\\\\d{2})', '$1.$2.$3-$4') AS cpf_formatado\n",
    "FROM workspace.default.exemplo_usuarios;"
   ]
  },
  {
   "cell_type": "markdown",
   "metadata": {
    "application/vnd.databricks.v1+cell": {
     "cellMetadata": {},
     "inputWidgets": {},
     "nuid": "d242fe6e-30d9-4f40-aad3-c8dcc6e9dd2a",
     "showTitle": false,
     "tableResultSettingsMap": {},
     "title": ""
    }
   },
   "source": [
    "# FUNÇÕES DE DATA"
   ]
  },
  {
   "cell_type": "code",
   "execution_count": 0,
   "metadata": {
    "application/vnd.databricks.v1+cell": {
     "cellMetadata": {},
     "inputWidgets": {},
     "nuid": "bd191113-2205-40e4-8eb4-7903dcaf8494",
     "showTitle": true,
     "tableResultSettingsMap": {},
     "title": "MANIPULANDO DATAS"
    }
   },
   "outputs": [],
   "source": [
    "SELECT\n",
    "  nome,\n",
    "  data_nascimento,\n",
    "  CURRENT_DATE AS hoje,\n",
    "  YEAR(data_nascimento) AS ano_nasc,\n",
    "  MONTH(data_nascimento) AS mes_nasc,\n",
    "  DAY(data_nascimento) AS dia_nasc,\n",
    "  DATEADD(YEAR, 1, data_nascimento) AS um_ano_depois,\n",
    "  DATEDIFF(CURRENT_DATE, data_nascimento) AS dias_de_vida\n",
    "FROM workspace.default.exemplo_usuarios;"
   ]
  },
  {
   "cell_type": "markdown",
   "metadata": {
    "application/vnd.databricks.v1+cell": {
     "cellMetadata": {},
     "inputWidgets": {},
     "nuid": "e5606522-2b12-4af1-ae91-d541f040902a",
     "showTitle": false,
     "tableResultSettingsMap": {},
     "title": ""
    }
   },
   "source": [
    "# FUNÇÕES DE CONVERSÃO DE TIPOS"
   ]
  },
  {
   "cell_type": "code",
   "execution_count": 0,
   "metadata": {
    "application/vnd.databricks.v1+cell": {
     "cellMetadata": {},
     "inputWidgets": {},
     "nuid": "b9db52b6-4610-4f27-8a0b-375407b5eec3",
     "showTitle": true,
     "tableResultSettingsMap": {},
     "title": "CAST"
    }
   },
   "outputs": [],
   "source": [
    "SELECT\n",
    "  nome,\n",
    "  CAST(salario AS STRING) AS salario_texto,\n",
    "  TO_VARCHAR(data_nascimento, 'yyyy-MM-dd') AS data_nasc_formatada,\n",
    "  TRY_CAST(cpf AS BIGINT) AS cpf_em_numero,\n",
    "  TRY_TO_NUMBER(cpf) AS cpf_com_try\n",
    "FROM workspace.default.exemplo_usuarios;"
   ]
  },
  {
   "cell_type": "code",
   "execution_count": 0,
   "metadata": {
    "application/vnd.databricks.v1+cell": {
     "cellMetadata": {},
     "inputWidgets": {},
     "nuid": "aed2e99d-bf72-428c-8ba8-e820e0329aca",
     "showTitle": false,
     "tableResultSettingsMap": {},
     "title": ""
    }
   },
   "outputs": [],
   "source": [
    "CREATE OR REPLACE TEMPORARY VIEW vw_exemplo_formatado AS\n",
    "SELECT\n",
    "  nome,\n",
    "  UPPER(nome) AS nome_maiusculo,\n",
    "  REGEXP_REPLACE(cpf, '(\\\\d{3})(\\\\d{3})(\\\\d{3})(\\\\d{2})', '$1.$2.$3-$4') AS cpf_formatado,\n",
    "  IFNULL(salario, 0) AS salario_final,\n",
    "  POWER(IFNULL(salario, 0), 2) AS salario_ao_quadrado,\n",
    "  YEAR(data_nascimento) AS ano_nasc,\n",
    "  DATEDIFF(CURRENT_DATE, data_nascimento) AS idade_dias\n",
    "FROM workspace.default.exemplo_usuarios;"
   ]
  }
 ],
 "metadata": {
  "application/vnd.databricks.v1+notebook": {
   "computePreferences": null,
   "dashboards": [],
   "environmentMetadata": {
    "base_environment": "",
    "environment_version": "2"
   },
   "inputWidgetPreferences": null,
   "language": "sql",
   "notebookMetadata": {
    "pythonIndentUnit": 4
   },
   "notebookName": "05_sql_basico_BUILTIN_FUNCTIONS_PT1",
   "widgets": {}
  },
  "language_info": {
   "name": "sql"
  }
 },
 "nbformat": 4,
 "nbformat_minor": 0
}
