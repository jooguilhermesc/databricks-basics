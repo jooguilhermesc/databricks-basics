{
 "cells": [
  {
   "cell_type": "markdown",
   "metadata": {
    "application/vnd.databricks.v1+cell": {
     "cellMetadata": {},
     "inputWidgets": {},
     "nuid": "1b3ada7b-7af7-4c88-8243-f460ea34e097",
     "showTitle": false,
     "tableResultSettingsMap": {},
     "title": ""
    }
   },
   "source": [
    "\n",
    "# 📘 Fundamentos de SQL no Databricks\n",
    "\n",
    "Este notebook traz uma introdução prática aos principais comandos SQL, com foco em quem está começando. A ideia aqui é entender o papel de cada cláusula e saber como usá-las no dia a dia, consultando dados de forma eficiente e clara dentro do Databricks.\n",
    "\n",
    "✅ O que você vai aprender:\n",
    "\n",
    "- Como selecionar colunas e linhas com SELECT e WHERE\n",
    "- Como agrupar dados com GROUP BY e filtrar agregações com HAVING\n",
    "- Como ordenar resultados com ORDER BY\n",
    "- Como unir e combinar tabelas usando JOINS e UNION\n",
    "\n",
    "Todos os exemplos são simples, objetivos e pensados para facilitar o aprendizado de SQL no contexto do Spark SQL.\n",
    "\n",
    "Links úteis:\n",
    "\n",
    "- SQL language reference: https://docs.databricks.com/aws/en/sql/language-manual/\n",
    "\n",
    "_____________________________________________________________"
   ]
  },
  {
   "cell_type": "markdown",
   "metadata": {
    "application/vnd.databricks.v1+cell": {
     "cellMetadata": {},
     "inputWidgets": {},
     "nuid": "72ccf70d-e349-4149-a641-feee7c9b6c18",
     "showTitle": false,
     "tableResultSettingsMap": {},
     "title": ""
    }
   },
   "source": [
    "# SELECT\n",
    "\n",
    "A cláusula SELECT no SQL é usada para consultar dados de uma ou mais tabelas. Ela define quais colunas você quer visualizar.\n",
    "\n",
    "Quando estiver começando, preste atenção em três coisas:\n",
    "\n",
    "- Ordem importa: primeiro SELECT, depois FROM, depois filtros (WHERE, GROUP BY, etc.).\n",
    "- Evite SELECT *: sempre que possível, selecione só as colunas que precisa.\n",
    "- Alias ajudam: use AS para renomear colunas e deixar o resultado mais legível."
   ]
  },
  {
   "cell_type": "code",
   "execution_count": 0,
   "metadata": {
    "application/vnd.databricks.v1+cell": {
     "cellMetadata": {
      "byteLimit": 2048000,
      "rowLimit": 10000
     },
     "collapsed": true,
     "inputWidgets": {},
     "nuid": "1e0533b3-2073-434d-a0fa-0046d080edeb",
     "showTitle": true,
     "tableResultSettingsMap": {},
     "title": "COMANDO SELECT ALL"
    }
   },
   "outputs": [],
   "source": [
    "-- Seleciona todas as colunas da tabela de pokémons\n",
    "SELECT * FROM workspace.pokemons.pokemon"
   ]
  },
  {
   "cell_type": "code",
   "execution_count": 0,
   "metadata": {
    "application/vnd.databricks.v1+cell": {
     "cellMetadata": {
      "byteLimit": 2048000,
      "rowLimit": 10000
     },
     "inputWidgets": {},
     "nuid": "5755348d-828b-45f3-af97-58191e5f3a0c",
     "showTitle": true,
     "tableResultSettingsMap": {},
     "title": "COMANDO SELECT"
    }
   },
   "outputs": [],
   "source": [
    "-- Seleciona colunas específicas da tabela de pokémons\n",
    "SELECT \n",
    "  `#`, \n",
    "  Name, \n",
    "  `Type 1`, \n",
    "  `Type 2`, \n",
    "  HP, \n",
    "  Generation, \n",
    "  Legendary \n",
    "FROM workspace.pokemons.pokemon"
   ]
  },
  {
   "cell_type": "code",
   "execution_count": 0,
   "metadata": {
    "application/vnd.databricks.v1+cell": {
     "cellMetadata": {
      "byteLimit": 2048000,
      "rowLimit": 10000
     },
     "inputWidgets": {},
     "nuid": "0f91f755-d90e-44e4-ab21-3e7c42965583",
     "showTitle": true,
     "tableResultSettingsMap": {},
     "title": "COMANDO COLUMNS ALIAS"
    }
   },
   "outputs": [],
   "source": [
    "-- Seleciona e renomeia colunas específicas da tabela de pokémons\n",
    "SELECT \n",
    "  `#` AS pokedex_number, \n",
    "  Name AS pkmn_name, \n",
    "  `Type 1` AS pkmn_type_primary, \n",
    "  `Type 2` AS pkmn_type_secondary, \n",
    "  HP AS pkmn_hp, \n",
    "  Generation AS pkmn_generation, \n",
    "  Legendary AS pkmn_legendary\n",
    "FROM workspace.pokemons.pokemon"
   ]
  },
  {
   "cell_type": "code",
   "execution_count": 0,
   "metadata": {
    "application/vnd.databricks.v1+cell": {
     "cellMetadata": {
      "byteLimit": 2048000,
      "rowLimit": 10000
     },
     "inputWidgets": {},
     "nuid": "bfe481ea-dfae-4d81-9c29-4f39bf4ff175",
     "showTitle": true,
     "tableResultSettingsMap": {},
     "title": "COMANDO TABLE ALIAS"
    }
   },
   "outputs": [],
   "source": [
    "-- Seleciona e renomeia colunas específicas da tabela de pokémons\n",
    "SELECT \n",
    "  pkmn.`#` AS pokedex_number, \n",
    "  pkmn.Name AS pkmn_name, \n",
    "  pkmn.`Type 1` AS pkmn_type_primary, \n",
    "  pkmn.`Type 2` AS pkmn_type_secondary, \n",
    "  pkmn.HP AS pkmn_hp, \n",
    "  pkmn.Generation AS pkmn_generation, \n",
    "  pkmn.Legendary AS pkmn_legendary\n",
    "FROM workspace.pokemons.pokemon pkmn"
   ]
  },
  {
   "cell_type": "code",
   "execution_count": 0,
   "metadata": {
    "application/vnd.databricks.v1+cell": {
     "cellMetadata": {
      "byteLimit": 2048000,
      "rowLimit": 10000
     },
     "inputWidgets": {},
     "nuid": "d0c18dc9-9ee6-4e50-89f8-2d7c81a0778c",
     "showTitle": true,
     "tableResultSettingsMap": {},
     "title": "COMANDO DISTINCT"
    }
   },
   "outputs": [],
   "source": [
    "-- Seleciona todos os tipos primários distintos dos pokémons\n",
    "SELECT DISTINCT `Type 1` FROM workspace.pokemons.pokemon"
   ]
  },
  {
   "cell_type": "code",
   "execution_count": 0,
   "metadata": {
    "application/vnd.databricks.v1+cell": {
     "cellMetadata": {
      "byteLimit": 2048000,
      "rowLimit": 10000
     },
     "inputWidgets": {},
     "nuid": "97525ed0-cf77-4fec-9ebd-482c7ef8ae17",
     "showTitle": true,
     "tableResultSettingsMap": {},
     "title": "COMANDO CASE WHEN"
    }
   },
   "outputs": [],
   "source": [
    "-- Retorna o tipo primário dos pokémons traduzido para português, agrupando em 'Grama', 'Fogo', 'Água' ou 'outros tipos'\n",
    "SELECT\n",
    "  DISTINCT  \n",
    "  CASE \n",
    "    WHEN pkmn.`Type 1` = 'Grass' THEN 'Grama'\n",
    "    WHEN pkmn.`Type 1` = 'Fire' THEN 'Fogo'\n",
    "    WHEN pkmn.`Type 1` = 'Water' THEN 'Água'\n",
    "    ELSE 'outros tipos' \n",
    "  END AS pkmn_type\n",
    "FROM workspace.pokemons.pokemon pkmn"
   ]
  },
  {
   "cell_type": "markdown",
   "metadata": {
    "application/vnd.databricks.v1+cell": {
     "cellMetadata": {},
     "inputWidgets": {},
     "nuid": "1e69557f-620e-4f65-a6a3-9a7665cbba00",
     "showTitle": false,
     "tableResultSettingsMap": {},
     "title": ""
    }
   },
   "source": [
    "# WHERE \n",
    "\n",
    "A cláusula WHERE serve para filtrar os dados retornados pela consulta. Ela define quais linhas da tabela devem aparecer no resultado.\n",
    "\n",
    "Quando estiver começando, fique atento a:\n",
    "\n",
    "- Condições lógicas: use =, >, <, <=, >=, <> para comparar valores.\n",
    "- Texto precisa de aspas: strings devem estar entre aspas simples ('João').\n",
    "- Combine filtros com AND, OR e NOT."
   ]
  },
  {
   "cell_type": "code",
   "execution_count": 0,
   "metadata": {
    "application/vnd.databricks.v1+cell": {
     "cellMetadata": {
      "byteLimit": 2048000,
      "rowLimit": 10000
     },
     "inputWidgets": {},
     "nuid": "cb25cede-416a-4684-9015-35f77e458c0a",
     "showTitle": true,
     "tableResultSettingsMap": {},
     "title": "COMANDO WHERE - IGUAL"
    }
   },
   "outputs": [],
   "source": [
    "-- Seleciona todos os pokémons cujo tipo primário é 'Grass'\n",
    "SELECT * FROM workspace.pokemons.pokemon\n",
    "WHERE `Type 1` = 'Grass'"
   ]
  },
  {
   "cell_type": "code",
   "execution_count": 0,
   "metadata": {
    "application/vnd.databricks.v1+cell": {
     "cellMetadata": {
      "byteLimit": 2048000,
      "rowLimit": 10000
     },
     "inputWidgets": {},
     "nuid": "358ccd43-67f3-4039-ba53-fb10a10f3083",
     "showTitle": true,
     "tableResultSettingsMap": {},
     "title": "COMANDO WHERE - DIFERENTE"
    }
   },
   "outputs": [],
   "source": [
    "-- Seleciona todos os pokémons cujo tipo primário não é 'Grass'\n",
    "SELECT * FROM workspace.pokemons.pokemon\n",
    "WHERE `Type 1` <> 'Grass'"
   ]
  },
  {
   "cell_type": "code",
   "execution_count": 0,
   "metadata": {
    "application/vnd.databricks.v1+cell": {
     "cellMetadata": {
      "byteLimit": 2048000,
      "rowLimit": 10000
     },
     "inputWidgets": {},
     "nuid": "4ccb7c91-4aae-4eba-8aa9-40705a2c78cb",
     "showTitle": true,
     "tableResultSettingsMap": {},
     "title": "COMANDO WHERE - MAIOR OU MENOR"
    }
   },
   "outputs": [],
   "source": [
    "-- Seleciona todos os pokémons com HP maior que 100\n",
    "SELECT * FROM workspace.pokemons.pokemon\n",
    "WHERE HP > 100"
   ]
  },
  {
   "cell_type": "code",
   "execution_count": 0,
   "metadata": {
    "application/vnd.databricks.v1+cell": {
     "cellMetadata": {
      "byteLimit": 2048000,
      "rowLimit": 10000
     },
     "inputWidgets": {},
     "nuid": "e5afbaaa-b843-4431-a987-d81a33053e1e",
     "showTitle": true,
     "tableResultSettingsMap": {},
     "title": "COMANDO WHERE - MAIOR IGUAL QUE OU MENOR IGUAL QUE"
    }
   },
   "outputs": [],
   "source": [
    "-- Seleciona todos os pokémons com HP menor ou igual a 100\n",
    "SELECT * FROM workspace.pokemons.pokemon\n",
    "WHERE HP <= 100"
   ]
  },
  {
   "cell_type": "code",
   "execution_count": 0,
   "metadata": {
    "application/vnd.databricks.v1+cell": {
     "cellMetadata": {
      "byteLimit": 2048000,
      "rowLimit": 10000
     },
     "inputWidgets": {},
     "nuid": "95d141fe-b462-4f50-83b0-b35ed6d008d2",
     "showTitle": true,
     "tableResultSettingsMap": {},
     "title": "COMANDO WHERE - LIKE - INÍCIO"
    }
   },
   "outputs": [],
   "source": [
    "-- Seleciona todos os pokémons cujo nome começa com a letra 'P'\n",
    "SELECT * FROM workspace.pokemons.pokemon\n",
    "WHERE Name LIKE 'P%'"
   ]
  },
  {
   "cell_type": "code",
   "execution_count": 0,
   "metadata": {
    "application/vnd.databricks.v1+cell": {
     "cellMetadata": {
      "byteLimit": 2048000,
      "rowLimit": 10000
     },
     "inputWidgets": {},
     "nuid": "1de752d0-d9ce-45f6-968d-5c9500a2afdd",
     "showTitle": true,
     "tableResultSettingsMap": {},
     "title": "COMANDO WHERE - LIKE - FINAL"
    }
   },
   "outputs": [],
   "source": [
    "-- Seleciona todos os pokémons cujo nome termina com a letra 'a'\n",
    "SELECT * FROM workspace.pokemons.pokemon\n",
    "WHERE Name LIKE '%a'"
   ]
  },
  {
   "cell_type": "code",
   "execution_count": 0,
   "metadata": {
    "application/vnd.databricks.v1+cell": {
     "cellMetadata": {
      "byteLimit": 2048000,
      "rowLimit": 10000
     },
     "inputWidgets": {},
     "nuid": "3533b54d-1e42-439b-a2c1-ca316ce291bf",
     "showTitle": true,
     "tableResultSettingsMap": {},
     "title": "COMANDO WHERE - LIKE - ENTRE"
    }
   },
   "outputs": [],
   "source": [
    "-- Seleciona todos os pokémons cujo nome contém a letra 'k'\n",
    "SELECT * FROM workspace.pokemons.pokemon\n",
    "WHERE Name LIKE '%k%'"
   ]
  },
  {
   "cell_type": "code",
   "execution_count": 0,
   "metadata": {
    "application/vnd.databricks.v1+cell": {
     "cellMetadata": {
      "byteLimit": 2048000,
      "rowLimit": 10000
     },
     "inputWidgets": {},
     "nuid": "08397cb3-6b8b-4426-a778-87e6248a2148",
     "showTitle": true,
     "tableResultSettingsMap": {},
     "title": "COMANDO WHERE - IN"
    }
   },
   "outputs": [],
   "source": [
    "-- Seleciona todos os pokémons cujo 'Type 1' é 'Grass', 'Fire' ou 'Water'\n",
    "SELECT * FROM workspace.pokemons.pokemon\n",
    "WHERE `Type 1` IN ('Grass','Fire','Water')"
   ]
  },
  {
   "cell_type": "code",
   "execution_count": 0,
   "metadata": {
    "application/vnd.databricks.v1+cell": {
     "cellMetadata": {
      "byteLimit": 2048000,
      "rowLimit": 10000
     },
     "inputWidgets": {},
     "nuid": "30aecc2f-e626-423a-b82f-c24e7260240d",
     "showTitle": true,
     "tableResultSettingsMap": {},
     "title": "COMANDO WHERE - BETWEEN"
    }
   },
   "outputs": [],
   "source": [
    "-- Seleciona todos os pokémons cujo HP está entre 190 e 250\n",
    "SELECT * FROM workspace.pokemons.pokemon\n",
    "WHERE HP BETWEEN 190 AND 250"
   ]
  },
  {
   "cell_type": "code",
   "execution_count": 0,
   "metadata": {
    "application/vnd.databricks.v1+cell": {
     "cellMetadata": {
      "byteLimit": 2048000,
      "rowLimit": 10000
     },
     "inputWidgets": {},
     "nuid": "d0a08d64-10ec-45aa-889a-1e4527515947",
     "showTitle": true,
     "tableResultSettingsMap": {
      "0": {
       "dataGridStateBlob": "{\"version\":1,\"tableState\":{\"columnPinning\":{\"left\":[\"#row_number#\"],\"right\":[]},\"columnSizing\":{},\"columnVisibility\":{}},\"settings\":{\"columns\":{}},\"syncTimestamp\":1753216444310}",
       "filterBlob": null,
       "queryPlanFiltersBlob": null,
       "tableResultIndex": 0
      }
     },
     "title": "COMANDO WHERE - AND"
    }
   },
   "outputs": [],
   "source": [
    "-- Seleciona todos os pokémons cujo tipo primário é 'Grass' e tipo secundário é 'Psychic'\n",
    "SELECT * FROM workspace.pokemons.pokemon\n",
    "WHERE `Type 1` = 'Grass' AND `Type 2` = 'Psychic'"
   ]
  },
  {
   "cell_type": "code",
   "execution_count": 0,
   "metadata": {
    "application/vnd.databricks.v1+cell": {
     "cellMetadata": {
      "byteLimit": 2048000,
      "rowLimit": 10000
     },
     "inputWidgets": {},
     "nuid": "2f363896-5c9f-4c98-a8c9-0f9ce6f3cc3a",
     "showTitle": true,
     "tableResultSettingsMap": {},
     "title": "COMANDO WHERE - OR"
    }
   },
   "outputs": [],
   "source": [
    "-- Seleciona todos os pokémons cujo tipo primário é 'Grass' ou tipo secundário é 'Psychic'\n",
    "SELECT * FROM workspace.pokemons.pokemon\n",
    "WHERE `Type 1` = 'Grass' OR `Type 2` = 'Psychic'"
   ]
  },
  {
   "cell_type": "code",
   "execution_count": 0,
   "metadata": {
    "application/vnd.databricks.v1+cell": {
     "cellMetadata": {
      "byteLimit": 2048000,
      "rowLimit": 10000
     },
     "inputWidgets": {},
     "nuid": "576c0935-44ec-49c2-a422-d9cb4740c1da",
     "showTitle": true,
     "tableResultSettingsMap": {},
     "title": "COMANDO WHERE - NOT"
    }
   },
   "outputs": [],
   "source": [
    "-- Seleciona todos os pokémons cujo tipo primário é 'Grass' ou cujo tipo secundário não é 'Psychic'\n",
    "SELECT * FROM workspace.pokemons.pokemon\n",
    "WHERE `Type 1` = 'Grass' OR NOT `Type 2` = 'Psychic'"
   ]
  },
  {
   "cell_type": "markdown",
   "metadata": {
    "application/vnd.databricks.v1+cell": {
     "cellMetadata": {},
     "inputWidgets": {},
     "nuid": "5eb589a1-bce3-42aa-ac08-4706e3909ebb",
     "showTitle": false,
     "tableResultSettingsMap": {},
     "title": ""
    }
   },
   "source": [
    "# GROUP BY\n",
    "\n",
    "Usado para agrupar linhas com valores iguais em uma ou mais colunas. Geralmente vem junto com funções agregadas como COUNT(), SUM(), AVG(), etc.\n",
    "\n",
    "`⚠️ Atenção: toda coluna no SELECT que não está dentro de uma função agregada precisa estar no GROUP BY.`"
   ]
  },
  {
   "cell_type": "code",
   "execution_count": 0,
   "metadata": {
    "application/vnd.databricks.v1+cell": {
     "cellMetadata": {
      "byteLimit": 2048000,
      "rowLimit": 10000
     },
     "inputWidgets": {},
     "nuid": "617bc604-91c3-4743-88a5-71fbcd8aab49",
     "showTitle": true,
     "tableResultSettingsMap": {},
     "title": "COMANDO GROUP BY - UMA COLUNA"
    }
   },
   "outputs": [],
   "source": [
    "-- Conta a quantidade de pokémons por geração\n",
    "SELECT\n",
    "  Generation, \n",
    "  COUNT(1) AS qtd_pokemons\n",
    "FROM workspace.pokemons.pokemon\n",
    "GROUP BY \n",
    "  Generation"
   ]
  },
  {
   "cell_type": "code",
   "execution_count": 0,
   "metadata": {
    "application/vnd.databricks.v1+cell": {
     "cellMetadata": {
      "byteLimit": 2048000,
      "rowLimit": 10000
     },
     "inputWidgets": {},
     "nuid": "66057d40-0abe-4fb3-b49f-494e834c1565",
     "showTitle": true,
     "tableResultSettingsMap": {},
     "title": "COMANDO GROUP BY - VÁRIAS COLUNAS"
    }
   },
   "outputs": [],
   "source": [
    "-- Conta a quantidade de pokémons por geração e combinação de tipos primário e secundário\n",
    "SELECT\n",
    "  Generation,\n",
    "  `Type 1` AS pkmn_type_primary,\n",
    "  `Type 2` AS pkmn_type_secondary, \n",
    "  COUNT(1) AS qtd_pokemons\n",
    "FROM workspace.pokemons.pokemon\n",
    "GROUP BY \n",
    "  Generation, `Type 1`, `Type 2`"
   ]
  },
  {
   "cell_type": "markdown",
   "metadata": {
    "application/vnd.databricks.v1+cell": {
     "cellMetadata": {},
     "inputWidgets": {},
     "nuid": "82d609db-7949-4c40-a87a-dfea5966523d",
     "showTitle": false,
     "tableResultSettingsMap": {},
     "title": ""
    }
   },
   "source": [
    "# ORDER BY\n",
    "\n",
    "Serve para ordenar os resultados da consulta, de forma crescente (ASC) ou decrescente (DESC).\n",
    "\n",
    "`⚠️ Pode ordenar por colunas que estão no SELECT, por posição (ex: ORDER BY 1), ou por alias.`"
   ]
  },
  {
   "cell_type": "code",
   "execution_count": 0,
   "metadata": {
    "application/vnd.databricks.v1+cell": {
     "cellMetadata": {
      "byteLimit": 2048000,
      "rowLimit": 10000
     },
     "inputWidgets": {},
     "nuid": "c55f5642-ae12-4cc0-b619-cf6c37771c45",
     "showTitle": true,
     "tableResultSettingsMap": {},
     "title": "COMANDO ORDER BY - UMA COLUNA - ASC"
    }
   },
   "outputs": [],
   "source": [
    "-- Agrupa e conta a quantidade de pokémons por geração e tipos primário e secundário, ordenando pelo total de pokémons\n",
    "SELECT\n",
    "  Generation,\n",
    "  `Type 1` AS pkmn_type_primary,\n",
    "  `Type 2` AS pkmn_type_secondary, \n",
    "  COUNT(1) AS qtd_pokemons\n",
    "FROM workspace.pokemons.pokemon\n",
    "GROUP BY \n",
    "  Generation, `Type 1`, `Type 2`\n",
    "ORDER BY \n",
    "  qtd_pokemons"
   ]
  },
  {
   "cell_type": "code",
   "execution_count": 0,
   "metadata": {
    "application/vnd.databricks.v1+cell": {
     "cellMetadata": {
      "byteLimit": 2048000,
      "rowLimit": 10000
     },
     "inputWidgets": {},
     "nuid": "01fb5c2a-8692-47e7-9e1e-7a47da6e82fa",
     "showTitle": true,
     "tableResultSettingsMap": {},
     "title": "COMANDO ORDER BY - UMA COLUNA - DESC"
    }
   },
   "outputs": [],
   "source": [
    "-- Agrupa e conta a quantidade de pokémons por geração e tipos primário e secundário, ordenando pelo total de pokémons em ordem crescente\n",
    "SELECT\n",
    "  Generation,\n",
    "  `Type 1` AS pkmn_type_primary,\n",
    "  `Type 2` AS pkmn_type_secondary, \n",
    "  COUNT(1) AS qtd_pokemons\n",
    "FROM workspace.pokemons.pokemon\n",
    "GROUP BY \n",
    "  Generation, `Type 1`, `Type 2`\n",
    "ORDER BY \n",
    "  qtd_pokemons"
   ]
  },
  {
   "cell_type": "code",
   "execution_count": 0,
   "metadata": {
    "application/vnd.databricks.v1+cell": {
     "cellMetadata": {
      "byteLimit": 2048000,
      "rowLimit": 10000
     },
     "inputWidgets": {},
     "nuid": "405a3c0b-e3de-4540-af83-6740a169050c",
     "showTitle": true,
     "tableResultSettingsMap": {},
     "title": "COMANDO ORDER BY - VÁRIAS COLUNAS - ASC"
    }
   },
   "outputs": [],
   "source": [
    "-- Agrupa e conta a quantidade de pokémons por geração e tipos primário e secundário, ordenando pelo total de pokémons e geração\n",
    "SELECT\n",
    "  Generation,\n",
    "  `Type 1` AS pkmn_type_primary,\n",
    "  `Type 2` AS pkmn_type_secondary, \n",
    "  COUNT(1) AS qtd_pokemons\n",
    "FROM workspace.pokemons.pokemon\n",
    "GROUP BY \n",
    "  Generation, `Type 1`, `Type 2`\n",
    "ORDER BY \n",
    "  qtd_pokemons, Generation"
   ]
  },
  {
   "cell_type": "code",
   "execution_count": 0,
   "metadata": {
    "application/vnd.databricks.v1+cell": {
     "cellMetadata": {
      "byteLimit": 2048000,
      "rowLimit": 10000
     },
     "inputWidgets": {},
     "nuid": "50c54e35-bc13-4955-9a61-1c12b0581bd0",
     "showTitle": true,
     "tableResultSettingsMap": {},
     "title": "COMANDO ORDER BY - VÁRIAS COLUNAS - DESC"
    }
   },
   "outputs": [],
   "source": [
    "-- Agrupa e conta a quantidade de pokémons por geração e tipos primário e secundário, ordenando pelo total de pokémons (decrescente) e geração (decrescente)\n",
    "SELECT\n",
    "  Generation,\n",
    "  `Type 1` AS pkmn_type_primary,\n",
    "  `Type 2` AS pkmn_type_secondary, \n",
    "  COUNT(1) AS qtd_pokemons\n",
    "FROM workspace.pokemons.pokemon\n",
    "GROUP BY \n",
    "  Generation, `Type 1`, `Type 2`\n",
    "ORDER BY \n",
    "  qtd_pokemons DESC, Generation DESC"
   ]
  },
  {
   "cell_type": "markdown",
   "metadata": {
    "application/vnd.databricks.v1+cell": {
     "cellMetadata": {},
     "inputWidgets": {},
     "nuid": "f6b0775c-5ec4-40a7-a0e6-f0cdc6538984",
     "showTitle": false,
     "tableResultSettingsMap": {},
     "title": ""
    }
   },
   "source": [
    "# JOIN\n",
    "\n",
    "Permite combinar dados de duas ou mais tabelas com base em uma coluna em comum.\n",
    "\n",
    "Tipos principais:\n",
    "\n",
    "- **INNER JOIN:** retorna só os registros que batem nas duas tabelas\n",
    "- **LEFT JOIN:** tudo da tabela da esquerda, mesmo sem correspondência na direita\n",
    "- **RIGHT JOIN:** o contrário do LEFT\n",
    "- **FULL JOIN:** tudo que está de ambos os lados\n",
    "- **OUTER JOIN:** tudo que está de ambos os lados, quando houver correspondência\n",
    "\n",
    "![1_Gz6WOE2SAYkpnFmWrV5tVQ.png](./img/1_Gz6WOE2SAYkpnFmWrV5tVQ.png \"1_Gz6WOE2SAYkpnFmWrV5tVQ.png\")"
   ]
  },
  {
   "cell_type": "code",
   "execution_count": 0,
   "metadata": {
    "application/vnd.databricks.v1+cell": {
     "cellMetadata": {
      "byteLimit": 2048000,
      "rowLimit": 10000
     },
     "inputWidgets": {},
     "nuid": "e0dded93-f3a2-402b-b545-866ea778aec9",
     "showTitle": true,
     "tableResultSettingsMap": {
      "0": {
       "dataGridStateBlob": "{\"version\":1,\"tableState\":{\"columnPinning\":{\"left\":[\"#row_number#\"],\"right\":[]},\"columnSizing\":{},\"columnVisibility\":{}},\"settings\":{\"columns\":{}},\"syncTimestamp\":1753217561156}",
       "filterBlob": null,
       "queryPlanFiltersBlob": null,
       "tableResultIndex": 0
      }
     },
     "title": "COMANDO INNER JOIN"
    }
   },
   "outputs": [],
   "source": [
    "-- Faz um INNER JOIN entre as tabelas de pokémons e detalhes dos pokémons, trazendo informações combinadas de ambos\n",
    "SELECT \n",
    "  pkmn.`#` AS pkmn_id,\n",
    "  pkmn.Name AS pkmn_name,\n",
    "  pkmn.`Type 1` AS pkmn_type_primary,\n",
    "  pkmn.`Type 2` AS pkmn_type_secondary,\n",
    "  pkmnd.Classification AS pkmn_classification,\n",
    "  pkmnd.`Height (m)` AS pkmn_height,\n",
    "  pkmnd.`Weight (kg)` AS pkmn_weight,\n",
    "  pkmnd.Abilities AS pkmn_abilities\n",
    "FROM \n",
    "  workspace.pokemons.pokemon pkmn\n",
    "JOIN \n",
    "  workspace.pokemons.pokemon_details pkmnd ON pkmn.`#` = pkmnd.`Pokedex Number`"
   ]
  },
  {
   "cell_type": "code",
   "execution_count": 0,
   "metadata": {
    "application/vnd.databricks.v1+cell": {
     "cellMetadata": {},
     "inputWidgets": {},
     "nuid": "a0620124-f555-4c43-96ba-e64981ea1098",
     "showTitle": true,
     "tableResultSettingsMap": {},
     "title": "COMANDO RIGHT JOIN"
    }
   },
   "outputs": [],
   "source": [
    "-- Retorna todos os registros da tabela de detalhes dos pokémons, junto com os dados correspondentes da tabela principal de pokémons (RIGHT JOIN)\n",
    "SELECT \n",
    "  pkmn.`#` AS pkmn_id,\n",
    "  pkmn.Name AS pkmn_name,\n",
    "  pkmn.`Type 1` AS pkmn_type_primary,\n",
    "  pkmn.`Type 2` AS pkmn_type_secondary,\n",
    "  pkmnd.Classification AS pkmn_classification,\n",
    "  pkmnd.`Height (m)` AS pkmn_height,\n",
    "  pkmnd.`Weight (kg)` AS pkmn_weight,\n",
    "  pkmnd.Abilities AS pkmn_abilities\n",
    "FROM \n",
    "  workspace.pokemons.pokemon pkmn\n",
    "RIGHT JOIN \n",
    "  workspace.pokemons.pokemon_details pkmnd ON pkmn.`#` = pkmnd.`Pokedex Number`"
   ]
  },
  {
   "cell_type": "code",
   "execution_count": 0,
   "metadata": {
    "application/vnd.databricks.v1+cell": {
     "cellMetadata": {},
     "inputWidgets": {},
     "nuid": "78291342-dc36-4dd0-adc7-7bdd7301c6b8",
     "showTitle": true,
     "tableResultSettingsMap": {},
     "title": "COMANDO LEFT JOIN"
    }
   },
   "outputs": [],
   "source": [
    "-- Retorna todos os registros da tabela principal de pokémons, junto com os dados correspondentes da tabela de detalhes dos pokémons (LEFT JOIN)\n",
    "SELECT \n",
    "  pkmn.`#` AS pkmn_id,\n",
    "  pkmn.Name AS pkmn_name,\n",
    "  pkmn.`Type 1` AS pkmn_type_primary,\n",
    "  pkmn.`Type 2` AS pkmn_type_secondary,\n",
    "  pkmnd.Classification AS pkmn_classification,\n",
    "  pkmnd.`Height (m)` AS pkmn_height,\n",
    "  pkmnd.`Weight (kg)` AS pkmn_weight,\n",
    "  pkmnd.Abilities AS pkmn_abilities\n",
    "FROM \n",
    "  workspace.pokemons.pokemon pkmn\n",
    "LEFT JOIN \n",
    "  workspace.pokemons.pokemon_details pkmnd ON pkmn.`#` = pkmnd.`Pokedex Number`"
   ]
  },
  {
   "cell_type": "code",
   "execution_count": 0,
   "metadata": {
    "application/vnd.databricks.v1+cell": {
     "cellMetadata": {},
     "inputWidgets": {},
     "nuid": "aa6c9511-029c-41b0-8e0f-d22bc731e192",
     "showTitle": true,
     "tableResultSettingsMap": {},
     "title": "COMANDO FULL JOIN"
    }
   },
   "outputs": [],
   "source": [
    "-- Retorna todos os registros das duas tabelas (pokemon e pokemon_details)\n",
    "  pkmn.`#` AS pkmn_id,\n",
    "  pkmn.Name AS pkmn_name,\n",
    "  pkmn.`Type 1` AS pkmn_type_primary,\n",
    "  pkmn.`Type 2` AS pkmn_type_secondary,\n",
    "  pkmnd.Classification AS pkmn_classification,\n",
    "  pkmnd.`Height (m)` AS pkmn_height,\n",
    "  pkmnd.`Weight (kg)` AS pkmn_weight,\n",
    "  pkmnd.Abilities AS pkmn_abilities\n",
    "FROM \n",
    "  workspace.pokemons.pokemon pkmn\n",
    "FULL JOIN \n",
    "  workspace.pokemons.pokemon_details pkmnd ON pkmn.`#` = pkmnd.`Pokedex Number`"
   ]
  },
  {
   "cell_type": "code",
   "execution_count": 0,
   "metadata": {
    "application/vnd.databricks.v1+cell": {
     "cellMetadata": {},
     "inputWidgets": {},
     "nuid": "19ef9445-c4b1-4869-92e8-95bbe26e69c4",
     "showTitle": true,
     "tableResultSettingsMap": {},
     "title": "COMANDO OUTER JOIN"
    }
   },
   "outputs": [],
   "source": [
    "-- Retorna todos os registros das duas tabelas (pokemon e pokemon_details), combinando onde houver correspondência (FULL OUTER JOIN)\n",
    "SELECT \n",
    "  pkmn.`#` AS pkmn_id,\n",
    "  pkmn.Name AS pkmn_name,\n",
    "  pkmn.`Type 1` AS pkmn_type_primary,\n",
    "  pkmn.`Type 2` AS pkmn_type_secondary,\n",
    "  pkmnd.Classification AS pkmn_classification,\n",
    "  pkmnd.`Height (m)` AS pkmn_height,\n",
    "  pkmnd.`Weight (kg)` AS pkmn_weight,\n",
    "  pkmnd.Abilities AS pkmn_abilities\n",
    "FROM \n",
    "  workspace.pokemons.pokemon pkmn\n",
    "OUTER JOIN \n",
    "  workspace.pokemons.pokemon_details pkmnd ON pkmn.`#` = pkmnd.`Pokedex Number`"
   ]
  },
  {
   "cell_type": "markdown",
   "metadata": {
    "application/vnd.databricks.v1+cell": {
     "cellMetadata": {},
     "inputWidgets": {},
     "nuid": "8f4e850c-fd21-4261-9f76-e635624b8b0f",
     "showTitle": false,
     "tableResultSettingsMap": {},
     "title": ""
    }
   },
   "source": [
    "# UNION\n",
    "\n",
    "Serve para juntar os resultados de duas consultas, desde que tenham mesmo número de colunas e tipos compatíveis.\n",
    "\n",
    "- UNION: elimina duplicados\n",
    "- UNION ALL: mantém tudo, inclusive duplicados"
   ]
  },
  {
   "cell_type": "code",
   "execution_count": 0,
   "metadata": {
    "application/vnd.databricks.v1+cell": {
     "cellMetadata": {},
     "inputWidgets": {},
     "nuid": "ac20d5fb-bc7b-4943-8fce-e9afcbd7d16b",
     "showTitle": true,
     "tableResultSettingsMap": {},
     "title": "COMANDO UNION"
    }
   },
   "outputs": [],
   "source": [
    "-- Retorna todos os pokémons do tipo \"Grass\" e todos os pokémons classificados como \"Bug\" (usando UNION)\n",
    "SELECT \n",
    "  pkmn.`#` AS pkmn_id,\n",
    "  pkmn.Name AS pkmn_name,\n",
    "  pkmn.Legendary AS pkmn_legendary\n",
    "FROM \n",
    "  workspace.pokemons.pokemon pkmn\n",
    "WHERE \n",
    "  pkmn.`Type 1` = \"Grass\"\n",
    "\n",
    "UNION\n",
    "\n",
    "SELECT \n",
    "  pkmnd.`Pokedex Number` AS pkmn_id,\n",
    "  pkmnd.Name AS pkmn_name,\n",
    "  pkmnd.`Legendary Status` AS pkmn_legendary\n",
    "FROM \n",
    "  workspace.pokemons.pokemon_details pkmnd\n",
    "WHERE \n",
    "  pkmnd.Classification LIKE '%Bug%'"
   ]
  },
  {
   "cell_type": "code",
   "execution_count": 0,
   "metadata": {
    "application/vnd.databricks.v1+cell": {
     "cellMetadata": {},
     "inputWidgets": {},
     "nuid": "955a4f49-42b0-4c35-af1a-2c7715110cc6",
     "showTitle": true,
     "tableResultSettingsMap": {},
     "title": "COMANDO UNION ALL"
    }
   },
   "outputs": [],
   "source": [
    "-- Retorna todos os pokémons do tipo \"Grass\" e todos os pokémons classificados como \"Bug\" (usando UNION)\n",
    "SELECT \n",
    "  pkmn.`#` AS pkmn_id,\n",
    "  pkmn.Name AS pkmn_name,\n",
    "  pkmn.Legendary AS pkmn_legendary\n",
    "FROM \n",
    "  workspace.pokemons.pokemon pkmn\n",
    "WHERE \n",
    "  pkmn.`Type 1` = \"Grass\"\n",
    "\n",
    "UNION ALL\n",
    "\n",
    "SELECT \n",
    "  pkmnd.`Pokedex Number` AS pkmn_id,\n",
    "  pkmnd.Name AS pkmn_name,\n",
    "  pkmnd.`Legendary Status` AS pkmn_legendary\n",
    "FROM \n",
    "  workspace.pokemons.pokemon_details pkmnd\n",
    "WHERE \n",
    "  pkmnd.Classification LIKE '%Bug%'"
   ]
  },
  {
   "cell_type": "markdown",
   "metadata": {
    "application/vnd.databricks.v1+cell": {
     "cellMetadata": {},
     "inputWidgets": {},
     "nuid": "89a83293-df42-4343-bea8-a05ecf0a530e",
     "showTitle": false,
     "tableResultSettingsMap": {},
     "title": ""
    }
   },
   "source": [
    "# HAVING\n",
    "\n",
    "Usado para filtrar os resultados após o GROUP BY. É como um WHERE, mas aplicado em dados agregados.\n",
    "\n",
    "`⚠️ WHERE filtra antes do agrupamento, HAVING filtra depois.`"
   ]
  },
  {
   "cell_type": "code",
   "execution_count": 0,
   "metadata": {
    "application/vnd.databricks.v1+cell": {
     "cellMetadata": {
      "byteLimit": 2048000,
      "rowLimit": 10000
     },
     "inputWidgets": {},
     "nuid": "2ab73f9d-661b-47a2-b652-5f22e0dba7a9",
     "showTitle": true,
     "tableResultSettingsMap": {},
     "title": "COMANDO HAVING"
    }
   },
   "outputs": [],
   "source": [
    "-- Retorna os tipos de pokémons com mais de 50 ocorrências, ordenados pela quantidade decrescente\n",
    "SELECT \n",
    "  pkmn.`Type 1` AS pkmn_type,\n",
    "  COUNT(*) AS pkmn_qtd\n",
    "FROM workspace.pokemons.pokemon pkmn\n",
    "GROUP BY pkmn.`Type 1`\n",
    "HAVING COUNT(*) > 50\n",
    "ORDER BY pkmn_qtd DESC"
   ]
  }
 ],
 "metadata": {
  "application/vnd.databricks.v1+notebook": {
   "computePreferences": null,
   "dashboards": [],
   "environmentMetadata": {
    "base_environment": "",
    "environment_version": "2"
   },
   "inputWidgetPreferences": null,
   "language": "sql",
   "notebookMetadata": {
    "pythonIndentUnit": 4
   },
   "notebookName": "01_sql_basico_DQL",
   "widgets": {}
  },
  "language_info": {
   "name": "sql"
  }
 },
 "nbformat": 4,
 "nbformat_minor": 0
}
